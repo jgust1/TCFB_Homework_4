{
 "cells": [
  {
   "cell_type": "code",
   "execution_count": 1,
   "id": "fe4395b1-7ae0-4c03-9aa8-ceeecc95d438",
   "metadata": {},
   "outputs": [],
   "source": [
    "# Many thanks to Theresa, Elana, Ariana, and Sarah T for working on this with me and helping me - Some of this code is theirs\n",
    "# Much of this code is from lectures 8 and 9 "
   ]
  },
  {
   "cell_type": "code",
   "execution_count": null,
   "id": "80abce0a-4e35-4cd9-95cb-827846e66c41",
   "metadata": {},
   "outputs": [],
   "source": [
    "# THIS IS FOR QUESTION 1"
   ]
  },
  {
   "cell_type": "code",
   "execution_count": 2,
   "id": "16350a9a",
   "metadata": {},
   "outputs": [],
   "source": [
    "#Import the packages needed to do the hw\n",
    "import re\n",
    "\n",
    "import Bio.SeqIO"
   ]
  },
  {
   "cell_type": "code",
   "execution_count": 3,
   "id": "f13e0586",
   "metadata": {},
   "outputs": [],
   "source": [
    "#read in the file with all of the seq reads and all of the other data - make sure Python knows it is a fastq file\n",
    "seqreads = list(Bio.SeqIO.parse('barcodes_R1.fastq', format='fastq'))"
   ]
  },
  {
   "cell_type": "code",
   "execution_count": 4,
   "id": "5b35a70e",
   "metadata": {},
   "outputs": [
    {
     "name": "stdout",
     "output_type": "stream",
     "text": [
      "Found 10000 sequencing reads.\n"
     ]
    }
   ],
   "source": [
    "#count how many reads are in the file\n",
    "print(f\"Found {len(seqreads)} sequencing reads.\")"
   ]
  },
  {
   "cell_type": "code",
   "execution_count": 5,
   "id": "84a08afc-7419-4cba-8932-9ec2c3f7b3f0",
   "metadata": {},
   "outputs": [],
   "source": [
    "# Makes a list of just the sequencing reads from the file - excludes other data\n",
    "seqreads_str = [] \n",
    "for seqrecord in seqreads:\n",
    "    sequence = str(seqrecord.seq) # convert sequence part to string\n",
    "    seqreads_str.append(sequence) # add string sequence to list\n",
    "    \n",
    "#print(seqreads_str)\n",
    "#Just checking :)"
   ]
  },
  {
   "cell_type": "code",
   "execution_count": 6,
   "id": "ab5d118f-02bb-49b7-ad07-7d8a5cd5068b",
   "metadata": {},
   "outputs": [],
   "source": [
    "#Doube check that there are 10000 seqs in the seq list made in previous step\n",
    "assert len(seqreads_str) == len(seqreads)"
   ]
  },
  {
   "cell_type": "code",
   "execution_count": 7,
   "id": "4ffe341e-433c-4a00-be98-d51ba5168caf",
   "metadata": {},
   "outputs": [
    {
     "data": {
      "text/plain": [
       "'GCTTAAGTTATTTAGTGCGGCCGCCTATGGTGCACTATTATTTATCTATCGTGAAAGGGAGTTCTGCTCCATCAGGCCAAGATCGGAAGAGCACACGTCTGAACTCCAGTCACATGTCAGAATCTCGTATGCCGTCTTCTGCTTGAAAAAAAAAAAAAAGCTGAAATTAATAATTTTGAAACCAGTTTTGTAAACGCAGCACTAAAATGAAGGCATGCAACGACGATGTTTATTGACACGGAATAGCAGA'"
      ]
     },
     "execution_count": 7,
     "metadata": {},
     "output_type": "execute_result"
    }
   ],
   "source": [
    " #what is the sequence of the first item in the list (just checking) and also so I can compare to a reverse seq later\n",
    "seqreads_str[0]"
   ]
  },
  {
   "cell_type": "code",
   "execution_count": 8,
   "id": "7ac3d4b3-eb9b-48e2-8341-6f0cb3b2f763",
   "metadata": {},
   "outputs": [],
   "source": [
    "#Defining a function that will return the reverse complement of an inputted sequence\n",
    "def reverse_complement(seq, unk_partner = 'N'):\n",
    "    \"\"\"Get reverse complement of a DNA sequence\"\"\"\n",
    "    \n",
    "    base_partner = {'A':'T', 'T':'A', 'C':'G', 'G':'C'}\n",
    "    rseq = ''\n",
    "    for a in seq:\n",
    "        if a in base_partner:\n",
    "            # look up the complementary base in tATGGTGCATCATTATATGCAAATCCGGhe dictionary\n",
    "            pair = base_partner[a]\n",
    "            rseq = pair + rseq\n",
    "        else:\n",
    "            rseq = unk_partner + rseq\n",
    "    return rseq"
   ]
  },
  {
   "cell_type": "code",
   "execution_count": 9,
   "id": "aa5d230b-4dc7-446d-ab0b-2a9ea279be6e",
   "metadata": {},
   "outputs": [],
   "source": [
    "#Making a new list that is all of the reverse complements of the seqs from seqreads_str\n",
    "rev = []\n",
    "\n",
    "for seq in seqreads_str:\n",
    "    reverse_complement(seq)\n",
    "    rev.append(reverse_complement(seq))"
   ]
  },
  {
   "cell_type": "code",
   "execution_count": 10,
   "id": "d9d18a83-55d3-471e-b111-3e67f9db3ac7",
   "metadata": {},
   "outputs": [
    {
     "data": {
      "text/plain": [
       "list"
      ]
     },
     "execution_count": 10,
     "metadata": {},
     "output_type": "execute_result"
    }
   ],
   "source": [
    "#Double checking that it's still a list\n",
    "type(rev)"
   ]
  },
  {
   "cell_type": "code",
   "execution_count": 11,
   "id": "c7e9dd0b-4291-40a5-9af1-33b7352b8f53",
   "metadata": {},
   "outputs": [
    {
     "data": {
      "text/plain": [
       "10000"
      ]
     },
     "execution_count": 11,
     "metadata": {},
     "output_type": "execute_result"
    }
   ],
   "source": [
    "#Double checking that the list still has 10000 seqs \n",
    "len(rev)"
   ]
  },
  {
   "cell_type": "code",
   "execution_count": 12,
   "id": "67ce5b23-7b9e-4887-8521-9490bd16a6ac",
   "metadata": {},
   "outputs": [
    {
     "data": {
      "text/plain": [
       "['TCTGCTATTCCGTGTCAATAAACATCGTCGTTGCATGCCTTCATTTTAGTGCTGCGTTTACAAAACTGGTTTCAAAATTATTAATTTCAGCTTTTTTTTTTTTTTCAAGCAGAAGACGGCATACGAGATTCTGACATGTGACTGGAGTTCAGACGTGTGCTCTTCCGATCTTGGCCTGATGGAGCAGAACTCCCTTTCACGATAGATAAATAATAGTGCACCATAGGCGGCCGCACTAAATAACTTAAGC',\n",
       " 'TCGTACACTCTGTCATTAGGGATGTATTTGTTTAATGCATGGGGTTGTATACTAAGCTGTTGATGGTGTCTTTATGATACCTATTTAGGTTTTTTTTTTTTTTTTCAAGCAGAAGACGGCATACGAGATTCTGACATGTGACTGGAGTTCAGACGTGTGCTCTTCCGATCTATGTGTTCCAACGGCTCCTTGCAATGCCGGATTTGCATATAATGATGCACCATAGGCGGCCGCAACCGTGACCAGGAAG',\n",
       " 'TCGTAGTGTATAGTAGAAGGGACGTCTACGTTAATCAGTGTCATAAGTTCGATCATTGGCTTCAATACCTAGTGGGAGTTAGATTTTGTATGTTAGTTTTTTTTTTCAAGCAGAAGACGGCATACGAGATTCTGACATGTGACTGGAGTTCAGACGTGTGCTCTTCCGATCTTGGCCTGATGGAGCAGAACTCCCTTTCACGATAGATAAATAATAGTGCACCATAGGCGGCCGCGGGGTAATAGCCGTG',\n",
       " 'TCAGATGAATGGTAGTTGGTGATAGCATGAGGTTGGGTCGGATGGTTAGTGTCTTCTTTCATCTGATGGTTGTGTTTTGCGTGCTTTGCTTTTTTTTTTTTTTTTCAAGCAGAAGACGGCATACGAGATTCTGACATGTGACTGGAGTTCAGACGTGTGCTCTTCCGATCTATGTGTTCCAACGGCTCCTTGCAATGCCGGATTTGCATATAATGATGCAACATAGGCGGCCGCCCACATTCATCGCTGA',\n",
       " 'GAGTAAAGACTGTGTTCTGGGACGCGATCGAGTCTGCGAATGTGTGTAGCGCTACGATTTTGGTGCTAGTTATGAAATATTTAATGTAGTGTTTTTTTTTTTTTTCAAGCAGAAGACGGCATACGAGATTCTGACATGTGACTGGAGTTCAGACGTGTGCTCTTCCGATCTATGTGTTCCAACGGCTCCTTGCAATGCCGGATTTGCATATAATGATGCACCATAGGCGGCCGCTTATCGTCTCCCATAT']"
      ]
     },
     "execution_count": 12,
     "metadata": {},
     "output_type": "execute_result"
    }
   ],
   "source": [
    "#Looking at the first 5 seqs in the new list - looks good!\n",
    "rev[:5]"
   ]
  },
  {
   "cell_type": "code",
   "execution_count": 13,
   "id": "1260dc8e-f3ad-4c50-96b8-c371dc58cd79",
   "metadata": {},
   "outputs": [],
   "source": [
    "#defining the function count_prot. The arguements are a srting (called seqs), and the parameters are protlen, bclen, and downstream\n",
    "def count_prot(seqs, protlen=27, bclen=16, downstream='AGGCGGCCGC'):  \n",
    "    \"\"\"Count the number of reads with a specific protein sequence upstream of a barcode\n",
    "      \n",
    "      Parameters\n",
    "    ----------\n",
    "    seqs : str\n",
    "        Nucleotide sequence matching\n",
    "    protlen : int\n",
    "        Length of HA or NA end\n",
    "    bclen : int\n",
    "        Length of barcode\n",
    "    downstream: str\n",
    "        Sequence downstream of the barcode\n",
    "        \n",
    "    \"\"\"\n",
    "    \n",
    "    \n",
    "    # compiling the reguar expression to run within the function count_prot\n",
    "    # We want sequence that starts with a a string of any ATCGs that is 27bp long, followed by the downstream constant sequence, followed by any barcode \n",
    "    #that is made of ATCGNs and has a length of 16 right at the end of the sequence\n",
    "    prot_re = re.compile(\"(?P<prot>[ATCG]{\" + str(protlen) + \"})\"+ downstream + f\"(?P<barcode>[ATCGN]{{{bclen}}})$\")\n",
    "    \n",
    "    #Making objects specific to the function count_prot\n",
    "    NA = 'CACGATAGATAAATAATAGTGCACCAT'\n",
    "    HA = 'CCGGATTTGCATATAATGATGCACCAT'\n",
    "    \n",
    "    #defining a dictionary for the output of the fucntion count_prot \n",
    "    prot_counts = {'NA_counts':0, 'HA_counts':0, 'neither':0} \n",
    "    \n",
    "    #Making a for loop to use the regex prot_re where seq is anything and seqs is the arguement in the defined function\n",
    "    for seq in seqs:\n",
    "        match = prot_re.search(seq)\n",
    "        \n",
    "        #Looks to see if each sequence is a match. If so, group it by the part defined at Prot in the regex\n",
    "        #if that prot string is the same as the NA object, add 1 count to the NA_counts in the dictionary. Same for HA. \n",
    "        #if the prot doesn't match the HA or NA object, add 1 count to neither in the dictionary\n",
    "        if match: \n",
    "            prot = match.group(\"prot\")\n",
    "            if prot == NA:\n",
    "                prot_counts[\"NA_counts\"] +=1\n",
    "            elif prot == HA:\n",
    "                prot_counts[\"HA_counts\"] += 1\n",
    "            else:\n",
    "                prot_counts[\"neither\"] += 1\n",
    "                \n",
    "    #When the function is run, spit out the resulting prot_counts dictionary\n",
    "    return prot_counts"
   ]
  },
  {
   "cell_type": "code",
   "execution_count": null,
   "id": "2f8799a9-38d7-4e82-8b2b-c46e27555d88",
   "metadata": {},
   "outputs": [],
   "source": [
    "# BELOW IS THE ANSWER TO NUMBER 1"
   ]
  },
  {
   "cell_type": "code",
   "execution_count": 14,
   "id": "ada4e6bb-f478-47bf-a20a-208c0a63b707",
   "metadata": {},
   "outputs": [
    {
     "data": {
      "text/plain": [
       "{'NA_counts': 3910, 'HA_counts': 5246, 'neither': 248}"
      ]
     },
     "execution_count": 14,
     "metadata": {},
     "output_type": "execute_result"
    }
   ],
   "source": [
    "#Run the count_prot function on the list rev (which is a list of all of the reverse complements of the seqs in seqreads)\n",
    "count_prot(rev)"
   ]
  },
  {
   "cell_type": "code",
   "execution_count": null,
   "id": "289b0a22-76de-470e-b8d0-7449b9ca30da",
   "metadata": {},
   "outputs": [],
   "source": [
    "# THIS IS THE CODE FOR QUESTION NUMBER 2"
   ]
  },
  {
   "cell_type": "code",
   "execution_count": 18,
   "id": "ce16c62f-fece-45cf-80b5-5bf677f74e28",
   "metadata": {},
   "outputs": [],
   "source": [
    "#Define a function that \"Identify barcode with known upstream sequence\"\n",
    "def read_barcode(seqs, bclen=16, downstream='AGGCGGCCGC'):\n",
    "    \"\"\"Identify barcode with known upstream sequence.\n",
    "    \n",
    "    Parameters\n",
    "    ----------\n",
    "    seqread : str\n",
    "        Nucleotide sequence matching UPSTREAM-BARCODE read in reverse orientation.\n",
    "    bclen : int\n",
    "        Length of barcode\n",
    "    upstream: str\n",
    "        Sequence upstream of the barcode.\n",
    "    \"\"\"\n",
    "    # compiling the reguar expression to run within the function read_barcode\n",
    "    # We want sequence that starts with a a string of any ATCGs that is 27bp long, followed by the downstream constant sequence, followed by any barcode \n",
    "    #that is made of ATCGNs and has a length of 16 right at the end of the sequence\n",
    "    barcode_re = re.compile(\"(?P<prot>[ATCG]{27})\" + downstream + \"(?P<barcode>[ATCG]{\" + str(bclen) + \"})\")\n",
    "    \n",
    "    #find the sequences that match the re\n",
    "    match = barcode_re.search(seq)\n",
    "    \n",
    "    #return the sequences that match the patterm as \"barcode, prot\"\n",
    "    if match:\n",
    "        barcode = match.group('barcode')\n",
    "        prot = match.group('prot')\n",
    "        return barcode, prot\n",
    "    else:\n",
    "        barcode = \"not_match\"\n",
    "        gene = \"not_match\"\n",
    "        return barcode, prot"
   ]
  },
  {
   "cell_type": "code",
   "execution_count": 25,
   "id": "343cb4c0-79ab-41b9-9485-109a779495cb",
   "metadata": {},
   "outputs": [],
   "source": [
    "#define the HA and NA specific sequences\n",
    "NA = 'CACGATAGATAAATAATAGTGCACCAT'\n",
    "HA = 'CCGGATTTGCATATAATGATGCACCAT'\n",
    "\n",
    "#Set up empty barcode_count dictionaries\n",
    "barcode_counts_HA = {}\n",
    "barcode_counts_NA = {}\n",
    "\n",
    "#make a for loop to read each sequece in the list and \n",
    "#1. decide if it matches the barcode regex and return the matches as \"barcode, prot\" \n",
    "#2 assign the sequence as belonging to HA or NA \n",
    "#3 count them up in a dictionary\n",
    "for seq in rev:\n",
    "    barcode, prot = read_barcode(seq, bclen = 16)\n",
    "\n",
    "    if prot == NA:\n",
    "        if barcode in barcode_counts_NA:\n",
    "            barcode_counts_NA[barcode] += 1\n",
    "        else:\n",
    "            barcode_counts_NA[barcode] = 1\n",
    "    elif prot == HA:\n",
    "        if barcode in barcode_counts_HA:\n",
    "            barcode_counts_HA[barcode] += 1\n",
    "        else:\n",
    "            barcode_counts_HA[barcode] = 1\n"
   ]
  },
  {
   "cell_type": "code",
   "execution_count": null,
   "id": "4d7ee879-8bb2-4a61-932a-52420e7d64dc",
   "metadata": {},
   "outputs": [],
   "source": [
    "# BELOW IS THE ANSWER FOR QUESTION NUMBER 2"
   ]
  },
  {
   "cell_type": "code",
   "execution_count": 26,
   "id": "ef5c01fc-f7a3-4153-bdb0-52f6a61e25e2",
   "metadata": {},
   "outputs": [
    {
     "name": "stdout",
     "output_type": "stream",
     "text": [
      "the NA barcode with the most counts is TTTCTCCCGCATCTCG with 152 counts\n",
      "the HA barcode with the most counts is TTTGTCCCTTGAACCC with 155 counts\n"
     ]
    }
   ],
   "source": [
    "#Find the barcode with the most counts for each prot (NA or HA) and print that barcode and the count \n",
    "max_NA_barcode = max(barcode_counts_NA)\n",
    "max_NA_count = max(barcode_counts_NA.values())\n",
    "\n",
    "max_HA_barcode = max(barcode_counts_HA)\n",
    "max_HA_count = max(barcode_counts_HA.values())\n",
    "\n",
    "\n",
    "print(\"the NA barcode with the most counts is\", max_NA_barcode, \"with\", max_NA_count, \"counts\")\n",
    "print(\"the HA barcode with the most counts is\", max_HA_barcode, \"with\", max_HA_count, \"counts\")"
   ]
  },
  {
   "cell_type": "code",
   "execution_count": null,
   "id": "e5c27d3f-473a-442e-835e-1935cadfc8fe",
   "metadata": {},
   "outputs": [],
   "source": []
  }
 ],
 "metadata": {
  "kernelspec": {
   "display_name": "Python 3 (ipykernel)",
   "language": "python",
   "name": "python3"
  },
  "language_info": {
   "codemirror_mode": {
    "name": "ipython",
    "version": 3
   },
   "file_extension": ".py",
   "mimetype": "text/x-python",
   "name": "python",
   "nbconvert_exporter": "python",
   "pygments_lexer": "ipython3",
   "version": "3.9.13"
  }
 },
 "nbformat": 4,
 "nbformat_minor": 5
}
